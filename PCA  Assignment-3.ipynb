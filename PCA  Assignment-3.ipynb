{
 "cells": [
  {
   "cell_type": "code",
   "execution_count": null,
   "id": "640f4927-73d8-4082-90a8-a49d26c18f06",
   "metadata": {},
   "outputs": [],
   "source": [
    "ANSWER1:\n",
    "Eigenvalues and Eigenvectors: Eigenvalues are scalars that represent how much a matrix scales a vector. Eigenvectors are the corresponding vectors that only change in scale (not direction) when a linear transformation is applied. In the Eigen-Decomposition approach, a matrix \n",
    "A can be decomposed into the product of its eigenvectors and eigenvalues.\n",
    "\n",
    "ANSWER2:\n",
    "Eigen Decomposition Significance: Eigen decomposition is a way to factorize a matrix into a set of eigenvectors and eigenvalues. It's significant because it simplifies complex operations, making linear transformations more understandable and computationally efficient.\n",
    "\n",
    "ANSWER3:\n",
    "Diagonalizability Conditions: A square matrix is diagonalizable if it has n linearly independent eigenvectors. Proving this involves showing that the matrix has \n",
    "n linearly independent eigenvectors, forming a matrix P whose columns are the eigenvectors.\n",
    "\n",
    "ANSWER3:\n",
    "Spectral Theorem: The Spectral Theorem states that for a symmetric matrix, the eigenvectors form an orthonormal basis, and the eigenvalues are real. This theorem is crucial in the context of Eigen-Decomposition, ensuring the diagonalizability of a symmetric matrix.\n",
    "\n",
    "ANSWER4:\n",
    "Eigenvectors and Eigenvalues: Eigenvectors are the vectors that, when multiplied by a matrix, result only in a scaling of the vector. Eigenvalues are the corresponding scalars representing the scaling factor.\n",
    "\n",
    "ANSWER5:\n",
    "Geometric Interpretation: The eigenvectors represent the directions that are only stretched or compressed by the linear transformation, and the eigenvalues represent the scaling factors along those directions.\n",
    "\n",
    "ANSWER6:\n",
    "Real-world Applications: Eigen decomposition is used in various fields. In physics, it helps in analyzing dynamic systems. In computer vision, it's used for facial recognition. In finance, it aids in portfolio optimization.\n",
    "\n",
    "ANSWER7:\n",
    "Multiple Sets of Eigenvectors and Eigenvalues: Yes, a matrix can have multiple sets of eigenvectors and eigenvalues, especially in the case of repeated eigenvalues.\n",
    "\n",
    "ANSWER8:\n",
    "Applications in Data Analysis and ML: Eigen-Decomposition is a powerhouse in ML. Principal Component Analysis (PCA) relies on it for dimensionality reduction. The Singular Value Decomposition (SVD) is another technique, and solving linear systems using the power iteration method also involves Eigen-Decomposition."
   ]
  }
 ],
 "metadata": {
  "kernelspec": {
   "display_name": "Python 3 (ipykernel)",
   "language": "python",
   "name": "python3"
  },
  "language_info": {
   "codemirror_mode": {
    "name": "ipython",
    "version": 3
   },
   "file_extension": ".py",
   "mimetype": "text/x-python",
   "name": "python",
   "nbconvert_exporter": "python",
   "pygments_lexer": "ipython3",
   "version": "3.10.8"
  }
 },
 "nbformat": 4,
 "nbformat_minor": 5
}
